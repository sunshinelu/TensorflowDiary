{
 "cells": [
  {
   "cell_type": "markdown",
   "metadata": {
    "collapsed": true
   },
   "source": [
    "# 非线性模拟数据回归"
   ]
  },
  {
   "cell_type": "code",
   "execution_count": 1,
   "metadata": {},
   "outputs": [],
   "source": [
    "import tensorflow as tf\n",
    "import numpy as np\n",
    "from sklearn.utils import shuffle\n",
    "import matplotlib.pyplot as plt\n",
    "%matplotlib inline"
   ]
  },
  {
   "cell_type": "code",
   "execution_count": 2,
   "metadata": {
    "collapsed": true
   },
   "outputs": [
    {
     "name": "stdout",
     "output_type": "stream",
     "text": [
      "[-1.         -0.99227799 -0.98455598 -0.97683398 -0.96911197 -0.96138996\n -0.95366795 -0.94594595 -0.93822394 -0.93050193 -0.92277992 -0.91505792\n -0.90733591 -0.8996139  -0.89189189 -0.88416988 -0.87644788 -0.86872587\n -0.86100386 -0.85328185 -0.84555985 -0.83783784 -0.83011583 -0.82239382\n -0.81467181 -0.80694981 -0.7992278  -0.79150579 -0.78378378 -0.77606178\n -0.76833977 -0.76061776 -0.75289575 -0.74517375 -0.73745174 -0.72972973\n -0.72200772 -0.71428571 -0.70656371 -0.6988417  -0.69111969 -0.68339768\n -0.67567568 -0.66795367 -0.66023166 -0.65250965 -0.64478764 -0.63706564\n -0.62934363 -0.62162162 -0.61389961 -0.60617761 -0.5984556  -0.59073359\n -0.58301158 -0.57528958 -0.56756757 -0.55984556 -0.55212355 -0.54440154\n -0.53667954 -0.52895753 -0.52123552 -0.51351351 -0.50579151 -0.4980695\n -0.49034749 -0.48262548 -0.47490347 -0.46718147 -0.45945946 -0.45173745\n -0.44401544 -0.43629344 -0.42857143 -0.42084942 -0.41312741 -0.40540541\n -0.3976834  -0.38996139 -0.38223938 -0.37451737 -0.36679537 -0.35907336\n -0.35135135 -0.34362934 -0.33590734 -0.32818533 -0.32046332 -0.31274131\n -0.30501931 -0.2972973  -0.28957529 -0.28185328 -0.27413127 -0.26640927\n -0.25868726 -0.25096525 -0.24324324 -0.23552124 -0.22779923 -0.22007722\n -0.21235521 -0.2046332  -0.1969112  -0.18918919 -0.18146718 -0.17374517\n -0.16602317 -0.15830116 -0.15057915 -0.14285714 -0.13513514 -0.12741313\n -0.11969112 -0.11196911 -0.1042471  -0.0965251  -0.08880309 -0.08108108\n -0.07335907 -0.06563707 -0.05791506 -0.05019305 -0.04247104 -0.03474903\n -0.02702703 -0.01930502 -0.01158301 -0.003861    0.003861    0.01158301\n  0.01930502  0.02702703  0.03474903  0.04247104  0.05019305  0.05791506\n  0.06563707  0.07335907  0.08108108  0.08880309  0.0965251   0.1042471\n  0.11196911  0.11969112  0.12741313  0.13513514  0.14285714  0.15057915\n  0.15830116  0.16602317  0.17374517  0.18146718  0.18918919  0.1969112\n  0.2046332   0.21235521  0.22007722  0.22779923  0.23552124  0.24324324\n  0.25096525  0.25868726  0.26640927  0.27413127  0.28185328  0.28957529\n  0.2972973   0.30501931  0.31274131  0.32046332  0.32818533  0.33590734\n  0.34362934  0.35135135  0.35907336  0.36679537  0.37451737  0.38223938\n  0.38996139  0.3976834   0.40540541  0.41312741  0.42084942  0.42857143\n  0.43629344  0.44401544  0.45173745  0.45945946  0.46718147  0.47490347\n  0.48262548  0.49034749  0.4980695   0.50579151  0.51351351  0.52123552\n  0.52895753  0.53667954  0.54440154  0.55212355  0.55984556  0.56756757\n  0.57528958  0.58301158  0.59073359  0.5984556   0.60617761  0.61389961\n  0.62162162  0.62934363  0.63706564  0.64478764  0.65250965  0.66023166\n  0.66795367  0.67567568  0.68339768  0.69111969  0.6988417   0.70656371\n  0.71428571  0.72200772  0.72972973  0.73745174  0.74517375  0.75289575\n  0.76061776  0.76833977  0.77606178  0.78378378  0.79150579  0.7992278\n  0.80694981  0.81467181  0.82239382  0.83011583  0.83783784  0.84555985\n  0.85328185  0.86100386  0.86872587  0.87644788  0.88416988  0.89189189\n  0.8996139   0.90733591  0.91505792  0.92277992  0.93050193  0.93822394\n  0.94594595  0.95366795  0.96138996  0.96911197  0.97683398  0.98455598\n  0.99227799  1.        ]\n[-7.64942323e-01 -9.59125732e-01 -5.42354250e-01 -7.64403206e-01\n -4.19277171e-01 -9.42501480e-01 -2.22828661e-01 -8.12496030e-01\n -1.06181894e+00 -9.61658636e-01 -4.37870888e-01 -7.85803399e-01\n -6.68630502e-01 -8.79615892e-01 -3.81725611e-01 -5.44187061e-01\n -7.95575514e-01 -4.21019208e-01 -6.32997356e-01 -1.14083146e+00\n -5.21351993e-01 -6.27340783e-01 -6.64106898e-01 -4.21626403e-01\n -2.89540590e-01 -3.24708698e-01 -6.87418762e-01 -6.98434116e-01\n -4.54858099e-01 -7.53134335e-01 -4.14893582e-01 -6.15655090e-01\n -3.61251676e-01 -7.06408987e-01 -6.48636989e-01 -5.92568626e-01\n -6.78882178e-01 -8.55384127e-01 -1.46365060e-01 -5.98786844e-01\n -7.88062214e-01 -4.48871664e-01 -1.87813733e-01 -5.06020667e-01\n -6.29555862e-01 -4.96271467e-01 -4.74653249e-01  1.22471468e-01\n -3.11075055e-01 -2.81736906e-01 -2.69008872e-01 -3.99577680e-01\n -6.45977590e-01 -5.29235797e-01 -8.02233369e-02 -4.72374499e-01\n -1.75208623e-02 -2.95844655e-01 -2.73150589e-01  1.86363000e-01\n -8.48479959e-02  1.25464906e-02  3.11538254e-01  9.42533913e-02\n -3.09121115e-01  5.38177822e-02 -1.80179246e-01 -1.82582826e-01\n -3.70584244e-01 -2.57982290e-01 -2.77253342e-02 -1.36963853e-01\n -3.28163736e-01 -1.31460373e-01  1.00857949e-01 -9.53106755e-02\n -2.28405787e-01  8.03027008e-02  1.00329985e-01  2.74442562e-02\n -2.70806703e-01 -3.17059217e-01 -1.27882538e-01 -9.38998972e-02\n -3.40550225e-01  5.29973238e-01  4.45478694e-01  2.10334015e-01\n  1.03654173e-01 -5.97225444e-02  2.13323267e-01  5.53748331e-01\n  6.76129544e-02 -2.20865025e-01  2.95980680e-01  4.79156123e-01\n  3.28918955e-01  5.19214987e-01  3.96756327e-01 -2.69047366e-01\n  1.90174777e-01  3.69387092e-01  2.25545402e-01  2.83964919e-01\n  3.70227898e-01  1.81297015e-01  6.36592117e-01 -1.43967668e-03\n  8.83943470e-01  1.26969540e-01  3.71818661e-01  2.06555034e-01\n  6.08711781e-02  5.51567128e-01  3.71974854e-01  8.38703707e-01\n  4.68220900e-01  7.53752718e-01  8.26722528e-01  5.23521736e-01\n  6.18219589e-01  6.89389660e-01  6.38652150e-01  5.19922417e-01\n  7.73155324e-01  5.44696627e-01  6.87332705e-01  9.21040613e-01\n  4.11482585e-01  6.93620041e-01  9.61328377e-01  6.78460943e-01\n  1.21821484e+00  6.56579206e-01  5.81533299e-01  4.87060315e-01\n  9.55490071e-01  9.31323866e-01  1.28207680e+00  9.85187727e-01\n  1.16747709e+00  8.69262586e-01  1.22382654e+00  1.15192263e+00\n  1.23381098e+00  1.18597430e+00  1.11227642e+00  5.16228721e-01\n  1.07181483e+00  8.34602949e-01  1.09039737e+00  1.29304146e+00\n  1.31799627e+00  9.40048918e-01  1.26048586e+00  8.87965534e-01\n  1.26044829e+00  1.39385909e+00  1.30810149e+00  1.45961761e+00\n  1.23949729e+00  1.19866876e+00  1.32302969e+00  1.73757852e+00\n  1.42975618e+00  1.53811582e+00  1.11525263e+00  1.27354150e+00\n  1.62687239e+00  1.34399705e+00  1.64910901e+00  1.62126168e+00\n  8.38749249e-01  1.42370267e+00  1.31992595e+00  1.59255112e+00\n  1.60888854e+00  1.43748516e+00  1.43793245e+00  1.40845315e+00\n  1.40984826e+00  1.55370112e+00  1.40993503e+00  1.63324730e+00\n  1.93755046e+00  2.02430603e+00  1.77036921e+00  1.99261815e+00\n  1.77549255e+00  1.64918480e+00  1.75446379e+00  1.67050091e+00\n  1.60173465e+00  2.08531302e+00  1.56067654e+00  1.78367678e+00\n  1.91975873e+00  2.03930358e+00  2.21419370e+00  2.28753305e+00\n  2.23475143e+00  2.29285934e+00  2.29206946e+00  1.87949935e+00\n  2.01376458e+00  2.10079388e+00  2.10871007e+00  2.00347491e+00\n  2.07535639e+00  2.70637715e+00  2.54581646e+00  2.40316151e+00\n  2.00433665e+00  2.19066494e+00  2.19269695e+00  2.19117317e+00\n  2.45455115e+00  2.82711232e+00  2.48215656e+00  2.34156011e+00\n  2.45123699e+00  2.09910019e+00  2.93409847e+00  2.41294450e+00\n  2.56352248e+00  2.94961323e+00  2.71652688e+00  2.60205235e+00\n  2.55251592e+00  2.60990215e+00  2.58940868e+00  2.49682621e+00\n  2.52841587e+00  2.43283971e+00  2.69802384e+00  2.72773029e+00\n  2.73176178e+00  2.74516385e+00  2.53538100e+00  2.57144492e+00\n  2.81285665e+00  2.99716507e+00  2.85519334e+00  2.88471294e+00\n  2.87372387e+00  2.64910434e+00  2.75468806e+00  3.14798521e+00\n  2.85639501e+00  3.12068684e+00  2.95187945e+00  3.17985058e+00\n  3.25330155e+00  3.07541220e+00  3.44283883e+00  2.74757717e+00\n  3.10846420e+00  2.85901322e+00  3.03137514e+00  2.90138944e+00]\n"
     ]
    },
    {
     "data": {
      "text/plain": [
       "<matplotlib.collections.PathCollection at 0x11cfe7c50>"
      ]
     },
     "execution_count": 2,
     "metadata": {},
     "output_type": "execute_result"
    },
    {
     "data": {
      "image/png": "[encoded data removed]",
      "text/plain": [
       "<matplotlib.figure.Figure at 0x10b7e3810>"
      ]
     },
     "metadata": {},
     "output_type": "display_data"
    }
   ],
   "source": [
    "trainsample = 200\n",
    "testsample = 60\n",
    "\n",
    "# 这里我们定义模型。这个模型中含有一个简单的输入层和一个隐藏层的sigmoid激活层\n",
    "def model(X, hidden_weights1, hidden_bias1, ow):\n",
    "    hidden_layer = tf.nn.sigmoid(tf.matmul(X, hidden_weights1) + b)\n",
    "    return tf.matmul(hidden_layer, ow)\n",
    "\n",
    "# 随机生成数据\n",
    "dsX = np.linspace(-1, 1, trainsample + testsample).transpose()# 在－1到1内返回均匀间隔的数字\n",
    "dsY = 0.4 * pow(dsX, 2) + 2 * dsX + np.random.randn(*dsX.shape) * 0.22 + 0.8 # 生成Y方向的值\n",
    "\n",
    "print(dsX)\n",
    "print(dsY)\n",
    "plt.figure()# 创建输出文件\n",
    "plt.title(\"Original data\")\n",
    "plt.scatter(dsX, dsY)# 绘制数据点的三点图"
   ]
  },
  {
   "cell_type": "code",
   "execution_count": 4,
   "metadata": {},
   "outputs": [],
   "source": [
    "X = tf.placeholder(\"float\")\n",
    "Y = tf.placeholder(\"float\")\n",
    "\n",
    "# 创建第一个隐藏层\n",
    "hw1 = tf.Variable(tf.random_normal([1, 10], stddev=0.01))\n",
    "#创建输出链接\n",
    "ow = tf.Variable(tf.random_normal([10, 1], stddev=0.01))\n",
    "# 产生误差\n",
    "b = tf.Variable(tf.random_normal([10], stddev=0.01))\n",
    "\n",
    "model_y = model(X, hw1, b, ow)\n",
    "\n",
    "# 损失函数\n",
    "cost = tf.pow(model_y - Y, 2) / (2)\n",
    "\n",
    "# 创建优化器\n",
    "train_op = tf.train.AdamOptimizer(0.0001).minimize(cost)"
   ]
  },
  {
   "cell_type": "code",
   "execution_count": 6,
   "metadata": {},
   "outputs": [
    {
     "name": "stdout",
     "output_type": "stream",
     "text": [
      "Average cost for ecpch 1:[[0.00552703]]\nAverage cost for ecpch 2:[[0.00017944]]\n"
     ]
    },
    {
     "name": "stdout",
     "output_type": "stream",
     "text": [
      "Average cost for ecpch 3:[[0.01110269]]\nAverage cost for ecpch 4:[[0.00018792]]\n"
     ]
    },
    {
     "name": "stdout",
     "output_type": "stream",
     "text": [
      "Average cost for ecpch 5:[[0.00028509]]\nAverage cost for ecpch 6:[[0.05900216]]\n"
     ]
    },
    {
     "name": "stdout",
     "output_type": "stream",
     "text": [
      "Average cost for ecpch 7:[[0.04499966]]\nAverage cost for ecpch 8:[[0.00687639]]\n"
     ]
    },
    {
     "name": "stdout",
     "output_type": "stream",
     "text": [
      "Average cost for ecpch 9:[[0.00097307]]\n"
     ]
    }
   ],
   "source": [
    "# 在进程中启动\n",
    "with tf.Session() as sess:\n",
    "    tf.global_variables_initializer().run()#初始化所以变量\n",
    "    \n",
    "    for i in range(1, 10):\n",
    "        trainX, trainY = dsX[0:trainsample], dsY[0:trainsample]#对样本进行堆积抽样保证有较好的训练效果\n",
    "        for x1, y1 in zip(trainX, trainY):\n",
    "            sess.run(train_op, feed_dict={X:[[x1]], Y:y1})\n",
    "        testX, testY = dsX[trainsample:trainsample + testsample], dsY[0:trainsample:trainsample + testsample]\n",
    "        cost1 = 0.\n",
    "        for x1, y1 in zip(testX, testY):\n",
    "            cost1 += sess.run(cost, feed_dict={X:[[x1]], Y:y1}) / testsample\n",
    "            print(\"Average cost for ecpch \" + str(i) + \":\" + str(cost1))\n",
    "        dsX, dsY = shuffle(dsX, dsY)#我们随机抽样来实施更好的训练"
   ]
  },
  {
   "cell_type": "code",
   "execution_count": null,
   "metadata": {},
   "outputs": [],
   "source": [
    ""
   ]
  },
  {
   "cell_type": "code",
   "execution_count": null,
   "metadata": {},
   "outputs": [],
   "source": [
    ""
   ]
  },
  {
   "cell_type": "code",
   "execution_count": null,
   "metadata": {},
   "outputs": [],
   "source": [
    ""
   ]
  },
  {
   "cell_type": "code",
   "execution_count": null,
   "metadata": {},
   "outputs": [],
   "source": [
    ""
   ]
  }
 ],
 "metadata": {
  "kernelspec": {
   "display_name": "Python 2",
   "language": "python",
   "name": "python2"
  },
  "language_info": {
   "codemirror_mode": {
    "name": "ipython",
    "version": 2.0
   },
   "file_extension": ".py",
   "mimetype": "text/x-python",
   "name": "python",
   "nbconvert_exporter": "python",
   "pygments_lexer": "ipython2",
   "version": "2.7.6"
  }
 },
 "nbformat": 4,
 "nbformat_minor": 0
}