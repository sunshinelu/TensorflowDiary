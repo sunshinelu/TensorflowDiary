{
 "cells": [
  {
   "cell_type": "markdown",
   "metadata": {
    "collapsed": true
   },
   "source": [
    "# 葡萄酒分类"
   ]
  },
  {
   "cell_type": "code",
   "execution_count": 2,
   "metadata": {},
   "outputs": [],
   "source": [
    "import matplotlib.pyplot as plt\n",
    "import pandas as pd\n",
    "import tensorflow as tf\n",
    "from sklearn.utils import shuffle\n",
    "from sklearn import preprocessing\n",
    "%matplotlib inline"
   ]
  },
  {
   "cell_type": "code",
   "execution_count": 3,
   "metadata": {},
   "outputs": [
    {
     "name": "stdout",
     "output_type": "stream",
     "text": [
      "             Wine     Alcohol  Malic.acid         Ash         Acl          Mg  \\\ncount  178.000000  178.000000  178.000000  178.000000  178.000000  178.000000   \nmean     1.938202   13.000618    2.336348    2.366517   19.494944   99.741573   \nstd      0.775035    0.811827    1.117146    0.274344    3.339564   14.282484   \nmin      1.000000   11.030000    0.740000    1.360000   10.600000   70.000000   \n25%      1.000000   12.362500    1.602500    2.210000   17.200000   88.000000   \n50%      2.000000   13.050000    1.865000    2.360000   19.500000   98.000000   \n75%      3.000000   13.677500    3.082500    2.557500   21.500000  107.000000   \nmax      3.000000   14.830000    5.800000    3.230000   30.000000  162.000000   \n\n          Phenols  Flavanoids  Nonflavanoid.phenols     Proanth   Color.int  \\\ncount  178.000000  178.000000            178.000000  178.000000  178.000000   \nmean     2.295112    2.029270              0.361854    1.590899    5.058090   \nstd      0.625851    0.998859              0.124453    0.572359    2.318286   \nmin      0.980000    0.340000              0.130000    0.410000    1.280000   \n25%      1.742500    1.205000              0.270000    1.250000    3.220000   \n50%      2.355000    2.135000              0.340000    1.555000    4.690000   \n75%      2.800000    2.875000              0.437500    1.950000    6.200000   \nmax      3.880000    5.080000              0.660000    3.580000   13.000000   \n\n              Hue          OD      Proline  \ncount  178.000000  178.000000   178.000000  \nmean     0.957449    2.611685   746.893258  \nstd      0.228572    0.709990   314.907474  \nmin      0.480000    1.270000   278.000000  \n25%      0.782500    1.937500   500.500000  \n50%      0.965000    2.780000   673.500000  \n75%      1.120000    3.170000   985.000000  \nmax      1.710000    4.000000  1680.000000  \n   Wine  Alcohol  Malic.acid   Ash   Acl   Mg  Phenols  Flavanoids  \\\n0     1    14.23        1.71  2.43  15.6  127     2.80        3.06   \n1     1    13.20        1.78  2.14  11.2  100     2.65        2.76   \n2     1    13.16        2.36  2.67  18.6  101     2.80        3.24   \n3     1    14.37        1.95  2.50  16.8  113     3.85        3.49   \n4     1    13.24        2.59  2.87  21.0  118     2.80        2.69   \n\n   Nonflavanoid.phenols  Proanth  Color.int   Hue    OD  Proline  \n0                  0.28     2.29       5.64  1.04  3.92     1065  \n1                  0.26     1.28       4.38  1.05  3.40     1050  \n2                  0.30     2.81       5.68  1.03  3.17     1185  \n3                  0.24     2.18       7.80  0.86  3.45     1480  \n4                  0.39     1.82       4.32  1.04  2.93      735  \n"
     ]
    }
   ],
   "source": [
    "path = '/Users/sunlu/Workspaces/PyCharm/TensorflowDiary/MachineLearning/Nolinear/wine.csv'\n",
    "df = pd.read_csv(path, header=0)\n",
    "print(df.describe())\n",
    "print(df.head(5))"
   ]
  },
  {
   "cell_type": "code",
   "execution_count": 6,
   "metadata": {},
   "outputs": [
    {
     "data": {
      "image/png": "[encoded data removed]",
      "text/plain": [
       "<matplotlib.figure.Figure at 0x126a49a10>"
      ]
     },
     "metadata": {},
     "output_type": "display_data"
    }
   ],
   "source": [
    "for i in range(1,8):\n",
    "    number = 420 + i\n",
    "    ax1 = plt.subplot(number)\n",
    "    ax1.locator_params(nbins=3)\n",
    "    plt.title\n",
    "    ax1.scatter(df[df.columns[i]], df['Wine']) # Plot a scatter draw of the datapoints\n",
    "plt.tight_layout(pad=0.4, w_pad=0.5, h_pad=1.0)"
   ]
  },
  {
   "cell_type": "code",
   "execution_count": 8,
   "metadata": {},
   "outputs": [
    {
     "name": "stdout",
     "output_type": "stream",
     "text": [
      "WARNING:tensorflow:From /Users/sunlu/anaconda/lib/python2.7/site-packages/tensorflow/python/util/tf_should_use.py:170: initialize_all_variables (from tensorflow.python.ops.variables) is deprecated and will be removed after 2017-03-02.\nInstructions for updating:\nUse `tf.global_variables_initializer` instead.\n"
     ]
    },
    {
     "name": "stdout",
     "output_type": "stream",
     "text": [
      "0.92105263\n"
     ]
    },
    {
     "name": "stdout",
     "output_type": "stream",
     "text": [
      "0.94736844\n0.94736844\n1.0\n0.92105263\n0.9736842\n"
     ]
    },
    {
     "name": "stdout",
     "output_type": "stream",
     "text": [
      "0.94736844\n0.94736844\n"
     ]
    },
    {
     "name": "stdout",
     "output_type": "stream",
     "text": [
      "0.8947368\n0.92105263\n0.9736842\n"
     ]
    },
    {
     "name": "stdout",
     "output_type": "stream",
     "text": [
      "1.0\n"
     ]
    },
    {
     "name": "stdout",
     "output_type": "stream",
     "text": [
      "0.9736842\n0.9736842\n0.94736844\n"
     ]
    },
    {
     "name": "stdout",
     "output_type": "stream",
     "text": [
      "0.9736842\n0.94736844\n0.94736844\n0.94736844\n1.0\n"
     ]
    },
    {
     "name": "stdout",
     "output_type": "stream",
     "text": [
      "0.9736842\n1.0\n0.94736844\n1.0\n0.9736842\n0.9736842\n1.0\n0.92105263\n"
     ]
    },
    {
     "name": "stdout",
     "output_type": "stream",
     "text": [
      "0.92105263\n1.0\n0.94736844\n0.9736842\n0.9736842\n0.92105263\n"
     ]
    },
    {
     "name": "stdout",
     "output_type": "stream",
     "text": [
      "0.9736842\n0.94736844\n0.94736844\n0.92105263\n0.9736842\n"
     ]
    },
    {
     "name": "stdout",
     "output_type": "stream",
     "text": [
      "0.9736842\n0.94736844\n1.0\n0.94736844\n0.94736844\n0.94736844\n"
     ]
    },
    {
     "name": "stdout",
     "output_type": "stream",
     "text": [
      "0.9736842\n0.9736842\n0.9736842\n1.0\n0.92105263\n0.94736844\n"
     ]
    },
    {
     "name": "stdout",
     "output_type": "stream",
     "text": [
      "0.9736842\n1.0\n1.0\n0.9736842\n"
     ]
    },
    {
     "name": "stdout",
     "output_type": "stream",
     "text": [
      "1.0\n1.0\n0.9736842\n"
     ]
    },
    {
     "name": "stdout",
     "output_type": "stream",
     "text": [
      "1.0\n0.94736844\n1.0\n0.9736842\n"
     ]
    },
    {
     "name": "stdout",
     "output_type": "stream",
     "text": [
      "0.9736842\n1.0\n0.9736842\n"
     ]
    },
    {
     "name": "stdout",
     "output_type": "stream",
     "text": [
      "0.9736842\n0.9736842\n1.0\n"
     ]
    },
    {
     "name": "stdout",
     "output_type": "stream",
     "text": [
      "1.0\n0.94736844\n0.94736844\n"
     ]
    },
    {
     "name": "stdout",
     "output_type": "stream",
     "text": [
      "1.0\n0.9736842\n0.9736842\n"
     ]
    },
    {
     "name": "stdout",
     "output_type": "stream",
     "text": [
      "1.0\n0.94736844\n1.0\n0.9736842\n"
     ]
    },
    {
     "name": "stdout",
     "output_type": "stream",
     "text": [
      "1.0\n1.0\n0.8947368\n0.9736842\n"
     ]
    },
    {
     "name": "stdout",
     "output_type": "stream",
     "text": [
      "1.0\n0.9736842\n1.0\n0.9736842\n"
     ]
    },
    {
     "name": "stdout",
     "output_type": "stream",
     "text": [
      "0.9736842\n0.9736842\n0.94736844\n"
     ]
    },
    {
     "name": "stdout",
     "output_type": "stream",
     "text": [
      "0.9736842\n0.9736842\n1.0\n0.9736842\n"
     ]
    },
    {
     "name": "stdout",
     "output_type": "stream",
     "text": [
      "0.94736844\n1.0\n0.9736842\n"
     ]
    },
    {
     "name": "stdout",
     "output_type": "stream",
     "text": [
      "0.9736842\n0.9736842\n1.0\n"
     ]
    },
    {
     "name": "stdout",
     "output_type": "stream",
     "text": [
      "0.9736842\n"
     ]
    }
   ],
   "source": [
    "sess = tf.InteractiveSession()\n",
    "\n",
    "X = df[df.columns[1:13]].values\n",
    "y = df['Wine'].values - 1\n",
    "Y = tf.one_hot(indices=y, depth=3, on_value=1., off_value=0., axis=1, name=\"a\").eval()\n",
    "\n",
    "X, Y = shuffle(X, Y)\n",
    "\n",
    "scaler = preprocessing.StandardScaler()\n",
    "X = scaler.fit_transform(X)\n",
    "\n",
    "# 创建模型\n",
    "x = tf.placeholder(tf.float32, [None, 12])\n",
    "W = tf.Variable(tf.zeros([12, 3]))\n",
    "b = tf.Variable(tf.zeros([3]))\n",
    "y = tf.nn.softmax(tf.matmul(x, W) + b)\n",
    "\n",
    "# 定义损失函数和优化器\n",
    "y_ = tf.placeholder(tf.float32, [None, 3])\n",
    "cross_entropy = tf.reduce_mean(-tf.reduce_sum(y_ * tf.log(y), reduction_indices=[1]))\n",
    "train_step = tf.train.GradientDescentOptimizer(0.1).minimize(cross_entropy)\n",
    "\n",
    "# 训练神经网络\n",
    "tf.initialize_all_variables().run()\n",
    "\n",
    "for i in range(100):\n",
    "    X, Y = shuffle(X,Y, random_state=1)\n",
    "    \n",
    "    Xtr = X[0:140, :]\n",
    "    Ytr = Y[0:140, :]\n",
    "    \n",
    "    Xt = X[140:178, :]\n",
    "    Yt = Y[140:178, :]\n",
    "    Xtr, Ytr = shuffle (Xtr, Ytr, random_state=0)\n",
    "    #batch_xs, batch_ys = mnist.train.next_batch(100)\n",
    "    batch_xs, batch_ys = Xtr , Ytr\n",
    "    train_step.run({x: batch_xs, y_: batch_ys})\n",
    "    cost = sess.run (cross_entropy, feed_dict={x: batch_xs, y_: batch_ys})\n",
    "    # 测试训练好的模型\n",
    "    correct_prediction = tf.equal(tf.argmax(y, 1), tf.argmax(y_, 1))\n",
    "    accuracy = tf.reduce_mean(tf.cast(correct_prediction, tf.float32))\n",
    "    print(accuracy.eval({x: Xt, y_: Yt}))"
   ]
  },
  {
   "cell_type": "code",
   "execution_count": null,
   "metadata": {},
   "outputs": [],
   "source": [
    ""
   ]
  },
  {
   "cell_type": "code",
   "execution_count": null,
   "metadata": {},
   "outputs": [],
   "source": [
    ""
   ]
  }
 ],
 "metadata": {
  "kernelspec": {
   "display_name": "Python 2",
   "language": "python",
   "name": "python2"
  },
  "language_info": {
   "codemirror_mode": {
    "name": "ipython",
    "version": 2.0
   },
   "file_extension": ".py",
   "mimetype": "text/x-python",
   "name": "python",
   "nbconvert_exporter": "python",
   "pygments_lexer": "ipython2",
   "version": "2.7.6"
  }
 },
 "nbformat": 4,
 "nbformat_minor": 0
}