{
 "cells": [
  {
   "cell_type": "markdown",
   "metadata": {},
   "source": [
    "# 使用flags定义命令行参数\n",
    "\n",
    "> 参考链接\n",
    "> \n",
    "> "
   ]
  },
  {
   "cell_type": "code",
   "execution_count": 1,
   "metadata": {
    "collapsed": true
   },
   "outputs": [],
   "source": [
    "import tensorflow as tf"
   ]
  },
  {
   "cell_type": "code",
   "execution_count": 2,
   "metadata": {
    "collapsed": true
   },
   "outputs": [],
   "source": [
    "flags = tf.app.flags\n",
    "flags.DEFINE_integer(\"batch_size\", 10, \"Numbers of training examples each step processes \")\n",
    "flags.DEFINE_integer(\"embedding_size\", 200, \" \")\n",
    "\n",
    "flags.DEFINE_string(\"word2vec_path\", \"./embeding.txt\", \" \")\n",
    "flags.DEFINE_string(\"train_file\", \"./msr_training.utf8\", \" \")\n",
    "flags.DEFINE_string(\"test_file\", \"./msr_test_gold.utf8\", \" \")\n",
    "flags.DEFINE_string(\"model_save_path\", \"./save/\", \" \")\n",
    "\n",
    "flags.DEFINE_float(\"dropout\", 0.75, \" \")\n",
    "flags.DEFINE_float(\"gpu_memory_fraction\", 0.1, \" \")\n",
    "FLAGS = flags.FLAGS"
   ]
  },
  {
   "cell_type": "code",
   "execution_count": 4,
   "metadata": {},
   "outputs": [
    {
     "name": "stdout",
     "output_type": "stream",
     "text": [
      "batch size is: 10\n",
      "embedding size is: 200\n",
      "word2vec path is: ./embeding.txt\n"
     ]
    },
    {
     "ename": "SystemExit",
     "evalue": "",
     "output_type": "error",
     "traceback": [
      "An exception has occurred, use %tb to see the full traceback.\n",
      "\u001b[0;31mSystemExit\u001b[0m\n"
     ]
    },
    {
     "name": "stderr",
     "output_type": "stream",
     "text": [
      "/Users/sunlu/anaconda/lib/python2.7/site-packages/IPython/core/interactiveshell.py:2889: UserWarning: To exit: use 'exit', 'quit', or Ctrl-D.\n",
      "  warn(\"To exit: use 'exit', 'quit', or Ctrl-D.\", stacklevel=1)\n"
     ]
    }
   ],
   "source": [
    "#必须带参数，否则：'TypeError: main() takes no arguments (1 given)';   main的参数名随意定义，无要求\n",
    "def main(_):  \n",
    "    print(\"batch size is: \" + str(FLAGS.batch_size))\n",
    "    print(\"embedding size is: \" + str(FLAGS.embedding_size))\n",
    "    print(\"word2vec path is: \" + FLAGS.word2vec_path)\n",
    "\n",
    "if __name__ == '__main__':\n",
    "    tf.app.run()  #执行main函数"
   ]
  },
  {
   "cell_type": "code",
   "execution_count": null,
   "metadata": {
    "collapsed": true
   },
   "outputs": [],
   "source": []
  }
 ],
 "metadata": {
  "kernelspec": {
   "display_name": "Python 2",
   "language": "python",
   "name": "python2"
  },
  "language_info": {
   "codemirror_mode": {
    "name": "ipython",
    "version": 2
   },
   "file_extension": ".py",
   "mimetype": "text/x-python",
   "name": "python",
   "nbconvert_exporter": "python",
   "pygments_lexer": "ipython2",
   "version": "2.7.13"
  }
 },
 "nbformat": 4,
 "nbformat_minor": 2
}
