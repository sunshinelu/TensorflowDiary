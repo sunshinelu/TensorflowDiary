{
 "cells": [
  {
   "cell_type": "markdown",
   "metadata": {},
   "source": [
    "# 使用flags定义命令行参数\n",
    "\n",
    "> 参考链接\n",
    "> \n",
    "> tensorflow 学习(三）使用flags定义命令行参数\n",
    "> <https://blog.csdn.net/leiting_imecas/article/details/72367937>"
   ]
  },
  {
   "cell_type": "markdown",
   "metadata": {},
   "source": [
    "tf定义了tf.app.flags，用于支持接受命令行传递参数，相当于接受argv。"
   ]
  },
  {
   "cell_type": "code",
   "execution_count": 1,
   "metadata": {
    "collapsed": true
   },
   "outputs": [],
   "source": [
    "import tensorflow as tf"
   ]
  },
  {
   "cell_type": "code",
   "execution_count": 2,
   "metadata": {},
   "outputs": [],
   "source": [
    "#第一个是参数名称，第二个参数是默认值，第三个是参数描述\n",
    "tf.app.flags.DEFINE_string('str_name', 'flags demo 1',\"descrip1\")\n",
    "tf.app.flags.DEFINE_integer('int_name', 10,\"descript2\")\n",
    "tf.app.flags.DEFINE_boolean('bool_name', False, \"descript3\")\n",
    "\n",
    "FLAGS = tf.app.flags.FLAGS"
   ]
  },
  {
   "cell_type": "code",
   "execution_count": 3,
   "metadata": {},
   "outputs": [
    {
     "name": "stdout",
     "output_type": "stream",
     "text": [
      "flags demo 1\n",
      "10\n",
      "False\n"
     ]
    },
    {
     "ename": "SystemExit",
     "evalue": "",
     "output_type": "error",
     "traceback": [
      "An exception has occurred, use %tb to see the full traceback.\n",
      "\u001b[0;31mSystemExit\u001b[0m\n"
     ]
    },
    {
     "name": "stderr",
     "output_type": "stream",
     "text": [
      "/Users/sunlu/anaconda/lib/python2.7/site-packages/IPython/core/interactiveshell.py:2889: UserWarning: To exit: use 'exit', 'quit', or Ctrl-D.\n",
      "  warn(\"To exit: use 'exit', 'quit', or Ctrl-D.\", stacklevel=1)\n"
     ]
    }
   ],
   "source": [
    "#必须带参数，否则：'TypeError: main() takes no arguments (1 given)';   main的参数名随意定义，无要求\n",
    "def main(_):  \n",
    "    print(FLAGS.str_name)\n",
    "    print(FLAGS.int_name)\n",
    "    print(FLAGS.bool_name)\n",
    "\n",
    "if __name__ == '__main__':\n",
    "    tf.app.run()  #执行main函数"
   ]
  },
  {
   "cell_type": "code",
   "execution_count": null,
   "metadata": {
    "collapsed": true
   },
   "outputs": [],
   "source": []
  }
 ],
 "metadata": {
  "kernelspec": {
   "display_name": "Python 2",
   "language": "python",
   "name": "python2"
  },
  "language_info": {
   "codemirror_mode": {
    "name": "ipython",
    "version": 2
   },
   "file_extension": ".py",
   "mimetype": "text/x-python",
   "name": "python",
   "nbconvert_exporter": "python",
   "pygments_lexer": "ipython2",
   "version": "2.7.13"
  }
 },
 "nbformat": 4,
 "nbformat_minor": 2
}
